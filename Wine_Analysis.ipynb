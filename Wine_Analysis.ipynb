{
 "cells": [
  {
   "cell_type": "code",
   "execution_count": 1,
   "id": "b87bb369",
   "metadata": {},
   "outputs": [],
   "source": [
    "import numpy as np\n",
    "import pandas as pd\n",
    "import geopandas as gpd\n",
    "import geopy.geocoders\n",
    "\n",
    "from shapely.geometry import Point\n",
    "from functools import partial\n",
    "from geopy.extra.rate_limiter import RateLimiter\n",
    "from geopy.geocoders import GoogleV3"
   ]
  },
  {
   "cell_type": "markdown",
   "id": "0c86198e",
   "metadata": {},
   "source": [
    "### Methods Section"
   ]
  },
  {
   "cell_type": "code",
   "execution_count": 3,
   "id": "6702e2f7",
   "metadata": {},
   "outputs": [],
   "source": [
    "def addressGeocoded(df,gc):\n",
    "    '''\n",
    "    This function accepts adataframe and a geocode object and returns a geo dataframe\n",
    "    \n",
    "    :param df: dataframe with addresses\n",
    "    :param gc: geocode object\n",
    "    \n",
    "    :returns geodataframe\n",
    "    '''\n",
    "    tmp_df = df.copy()\n",
    "    tmp_df['geolocation'] = tmp_df['address'].apply(gc) #translate address into coordinate\n",
    "    tmp_df['geometry'] = tmp_df['geolocation'].apply(lambda loc: tuple(loc.point[0:2]) if loc else None) #extract tuple point location\n",
    "    tmp_df['geometry'] = tmp_df['geometry'].apply(Point) # convert tuple in shapely geometry point\n",
    "    return tmp_df"
   ]
  },
  {
   "cell_type": "markdown",
   "id": "9119c7b8",
   "metadata": {},
   "source": [
    "### Load Datasets"
   ]
  },
  {
   "cell_type": "code",
   "execution_count": 4,
   "id": "bc6c4450",
   "metadata": {},
   "outputs": [
    {
     "data": {
      "text/html": [
       "<div>\n",
       "<style scoped>\n",
       "    .dataframe tbody tr th:only-of-type {\n",
       "        vertical-align: middle;\n",
       "    }\n",
       "\n",
       "    .dataframe tbody tr th {\n",
       "        vertical-align: top;\n",
       "    }\n",
       "\n",
       "    .dataframe thead th {\n",
       "        text-align: right;\n",
       "    }\n",
       "</style>\n",
       "<table border=\"1\" class=\"dataframe\">\n",
       "  <thead>\n",
       "    <tr style=\"text-align: right;\">\n",
       "      <th></th>\n",
       "      <th>producer</th>\n",
       "      <th>address</th>\n",
       "    </tr>\n",
       "  </thead>\n",
       "  <tbody>\n",
       "    <tr>\n",
       "      <th>0</th>\n",
       "      <td>Niepoort</td>\n",
       "      <td>670 Rua Candido do Reis, Vila Nova de Gaia 4400</td>\n",
       "    </tr>\n",
       "    <tr>\n",
       "      <th>1</th>\n",
       "      <td>Poeira</td>\n",
       "      <td>Provesende 5060, Villa Real</td>\n",
       "    </tr>\n",
       "    <tr>\n",
       "      <th>2</th>\n",
       "      <td>Quinta do Couquinho</td>\n",
       "      <td>Horta da Vilarica, 5160-101 Torre de Moncorvo,...</td>\n",
       "    </tr>\n",
       "  </tbody>\n",
       "</table>\n",
       "</div>"
      ],
      "text/plain": [
       "              producer                                            address\n",
       "0             Niepoort   670 Rua Candido do Reis, Vila Nova de Gaia 4400 \n",
       "1               Poeira                       Provesende 5060, Villa Real \n",
       "2  Quinta do Couquinho  Horta da Vilarica, 5160-101 Torre de Moncorvo,..."
      ]
     },
     "execution_count": 4,
     "metadata": {},
     "output_type": "execute_result"
    }
   ],
   "source": [
    "### Load Douro wine producers\n",
    "douro_wine_producer_df = pd.read_excel(\"./data_source/douro/douro_wine_producers_list.xlsx\")\n",
    "douro_wine_producer_df"
   ]
  },
  {
   "cell_type": "code",
   "execution_count": 7,
   "id": "eec44b98",
   "metadata": {},
   "outputs": [],
   "source": [
    "### Istance Google connection for geocoding\n",
    "geopy.geocoders.options.default_user_agent = 'wine_app'\n",
    "geopy.geocoders.options.default_scheme = 'https'\n",
    "with open(\"./data_source/apikey.txt\") as f:   #load Google API key\n",
    "    apikey = f.readline()\n",
    "    f.close\n",
    "geolocator = GoogleV3(api_key=apikey)\n",
    "geocode = partial(geolocator.geocode, language=\"en\")\n",
    "geocode = RateLimiter(geolocator.geocode, min_delay_seconds=5)\n",
    "# print(geocode)"
   ]
  },
  {
   "cell_type": "code",
   "execution_count": 8,
   "id": "34b347af",
   "metadata": {},
   "outputs": [],
   "source": [
    "douro_wine_producer_gdf = addressGeocoded(douro_wine_producer_df,geocode)"
   ]
  },
  {
   "cell_type": "code",
   "execution_count": 10,
   "id": "b388f817",
   "metadata": {},
   "outputs": [
    {
     "data": {
      "text/html": [
       "<div>\n",
       "<style scoped>\n",
       "    .dataframe tbody tr th:only-of-type {\n",
       "        vertical-align: middle;\n",
       "    }\n",
       "\n",
       "    .dataframe tbody tr th {\n",
       "        vertical-align: top;\n",
       "    }\n",
       "\n",
       "    .dataframe thead th {\n",
       "        text-align: right;\n",
       "    }\n",
       "</style>\n",
       "<table border=\"1\" class=\"dataframe\">\n",
       "  <thead>\n",
       "    <tr style=\"text-align: right;\">\n",
       "      <th></th>\n",
       "      <th>producer</th>\n",
       "      <th>address</th>\n",
       "      <th>geolocation</th>\n",
       "      <th>geometry</th>\n",
       "    </tr>\n",
       "  </thead>\n",
       "  <tbody>\n",
       "    <tr>\n",
       "      <th>0</th>\n",
       "      <td>Niepoort</td>\n",
       "      <td>670 Rua Candido do Reis, Vila Nova de Gaia 4400</td>\n",
       "      <td>(R. Cândido dos Reis 670, 4400-071 Vila Nova d...</td>\n",
       "      <td>POINT (41.1310385 -8.6109353)</td>\n",
       "    </tr>\n",
       "    <tr>\n",
       "      <th>1</th>\n",
       "      <td>Poeira</td>\n",
       "      <td>Provesende 5060, Villa Real</td>\n",
       "      <td>(R. Fundo de Vila 20, 5060-263 Provesende, Por...</td>\n",
       "      <td>POINT (41.2171499 -7.5666741)</td>\n",
       "    </tr>\n",
       "    <tr>\n",
       "      <th>2</th>\n",
       "      <td>Quinta do Couquinho</td>\n",
       "      <td>Horta da Vilarica, 5160-101 Torre de Moncorvo,...</td>\n",
       "      <td>(5160-101, Portugal, (41.2319091, -7.122560699...</td>\n",
       "      <td>POINT (41.2319091 -7.122560699999999)</td>\n",
       "    </tr>\n",
       "  </tbody>\n",
       "</table>\n",
       "</div>"
      ],
      "text/plain": [
       "              producer                                            address  \\\n",
       "0             Niepoort   670 Rua Candido do Reis, Vila Nova de Gaia 4400    \n",
       "1               Poeira                       Provesende 5060, Villa Real    \n",
       "2  Quinta do Couquinho  Horta da Vilarica, 5160-101 Torre de Moncorvo,...   \n",
       "\n",
       "                                         geolocation  \\\n",
       "0  (R. Cândido dos Reis 670, 4400-071 Vila Nova d...   \n",
       "1  (R. Fundo de Vila 20, 5060-263 Provesende, Por...   \n",
       "2  (5160-101, Portugal, (41.2319091, -7.122560699...   \n",
       "\n",
       "                                geometry  \n",
       "0          POINT (41.1310385 -8.6109353)  \n",
       "1          POINT (41.2171499 -7.5666741)  \n",
       "2  POINT (41.2319091 -7.122560699999999)  "
      ]
     },
     "execution_count": 10,
     "metadata": {},
     "output_type": "execute_result"
    }
   ],
   "source": [
    "douro_wine_producer_gdf"
   ]
  },
  {
   "cell_type": "code",
   "execution_count": null,
   "id": "3318298e",
   "metadata": {},
   "outputs": [],
   "source": []
  }
 ],
 "metadata": {
  "kernelspec": {
   "display_name": "Python 3",
   "language": "python",
   "name": "python3"
  },
  "language_info": {
   "codemirror_mode": {
    "name": "ipython",
    "version": 3
   },
   "file_extension": ".py",
   "mimetype": "text/x-python",
   "name": "python",
   "nbconvert_exporter": "python",
   "pygments_lexer": "ipython3",
   "version": "3.8.8"
  }
 },
 "nbformat": 4,
 "nbformat_minor": 5
}
